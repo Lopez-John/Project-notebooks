{
  "nbformat": 4,
  "nbformat_minor": 0,
  "metadata": {
    "colab": {
      "name": "Anaylsis of movies on streaming services",
      "provenance": [],
      "collapsed_sections": []
    },
    "kernelspec": {
      "name": "python3",
      "display_name": "Python 3"
    },
    "language_info": {
      "name": "python"
    }
  },
  "cells": [
    {
      "cell_type": "code",
      "metadata": {
        "id": "I6XSVARxc55_"
      },
      "source": [
        "import pandas as pd\n",
        "import numpy as np\n",
        "\n",
        "streaming = pd.read_csv('MoviesOnStreamingPlatforms_updated.csv', index_col='ID')"
      ],
      "execution_count": null,
      "outputs": []
    },
    {
      "cell_type": "code",
      "metadata": {
        "id": "kB55nXxSdG7C"
      },
      "source": [
        "streaming.head()\n",
        "streaming.rename(columns={'Rotten Tomatoes': 'Rotten_Tomatoes'}, inplace=True)"
      ],
      "execution_count": null,
      "outputs": []
    },
    {
      "cell_type": "code",
      "metadata": {
        "id": "kkq3t0F_dMUH"
      },
      "source": [
        "streaming.isnull().sum()\n",
        "streaming.dropna(inplace=True)"
      ],
      "execution_count": null,
      "outputs": []
    },
    {
      "cell_type": "code",
      "metadata": {
        "colab": {
          "base_uri": "https://localhost:8080/"
        },
        "id": "OlG9hnS5dljg",
        "outputId": "63dd1be6-1088-41f0-aa5f-d656651de191"
      },
      "source": [
        "streaming['Age'].value_counts()"
      ],
      "execution_count": null,
      "outputs": [
        {
          "output_type": "execute_result",
          "data": {
            "text/plain": [
              "18+    2195\n",
              "7+     1022\n",
              "13+     951\n",
              "all     650\n",
              "16+     262\n",
              "Name: Age, dtype: int64"
            ]
          },
          "metadata": {},
          "execution_count": 4
        }
      ]
    },
    {
      "cell_type": "code",
      "metadata": {
        "colab": {
          "base_uri": "https://localhost:8080/"
        },
        "id": "t3vbXLi1drjn",
        "outputId": "55ef3465-61f2-4858-95ac-2c289a67d4e4"
      },
      "source": [
        "streaming.info()"
      ],
      "execution_count": null,
      "outputs": [
        {
          "output_type": "stream",
          "name": "stdout",
          "text": [
            "<class 'pandas.core.frame.DataFrame'>\n",
            "Int64Index: 5080 entries, 1 to 9496\n",
            "Data columns (total 16 columns):\n",
            " #   Column           Non-Null Count  Dtype  \n",
            "---  ------           --------------  -----  \n",
            " 0   Unnamed: 0       5080 non-null   int64  \n",
            " 1   Title            5080 non-null   object \n",
            " 2   Year             5080 non-null   int64  \n",
            " 3   Age              5080 non-null   object \n",
            " 4   IMDb             5080 non-null   object \n",
            " 5   Rotten_Tomatoes  5080 non-null   object \n",
            " 6   Netflix          5080 non-null   int64  \n",
            " 7   Hulu             5080 non-null   int64  \n",
            " 8   Prime Video      5080 non-null   int64  \n",
            " 9   Disney+          5080 non-null   int64  \n",
            " 10  Type             5080 non-null   int64  \n",
            " 11  Directors        5080 non-null   object \n",
            " 12  Genres           5080 non-null   object \n",
            " 13  Country          5080 non-null   object \n",
            " 14  Language         5080 non-null   object \n",
            " 15  Runtime          5080 non-null   float64\n",
            "dtypes: float64(1), int64(7), object(8)\n",
            "memory usage: 674.7+ KB\n"
          ]
        }
      ]
    },
    {
      "cell_type": "code",
      "metadata": {
        "id": "6i-Pk4amdwX6"
      },
      "source": [
        "streaming['Type'].value_counts()\n",
        "streaming.drop(['Unnamed: 0' , 'Type'], 1, inplace=True)"
      ],
      "execution_count": null,
      "outputs": []
    },
    {
      "cell_type": "code",
      "metadata": {
        "id": "Azw-pAEhd2jx"
      },
      "source": [
        "#Functions to convert the ratings score on IMDb and Rotten Tomatoes from string to floats and integers\n",
        "\n",
        "def rating_strip_10(x):\n",
        "  if x == '10/10':\n",
        "    return 10.0\n",
        "  else:\n",
        "    return float(x.replace('/10', ''))\n",
        "\n",
        "def rating_strip_100(x):\n",
        "  if x == '100/100':\n",
        "    return 100\n",
        "  else:\n",
        "    return int(x.replace('/100', ''))"
      ],
      "execution_count": null,
      "outputs": []
    },
    {
      "cell_type": "code",
      "metadata": {
        "id": "jHPQWgoweAVi"
      },
      "source": [
        "streaming['Rotten_Tomatoes'] = streaming['Rotten_Tomatoes'].apply(rating_strip_100)\n",
        "streaming['IMDb'] = streaming['IMDb'].apply(rating_strip_10)"
      ],
      "execution_count": null,
      "outputs": []
    },
    {
      "cell_type": "code",
      "metadata": {
        "colab": {
          "base_uri": "https://localhost:8080/",
          "height": 324
        },
        "id": "I_zDBaZfeEUx",
        "outputId": "04f1950b-a6cd-4cd7-a5da-dfa09f4817cb"
      },
      "source": [
        "streaming.head()"
      ],
      "execution_count": null,
      "outputs": [
        {
          "output_type": "execute_result",
          "data": {
            "text/html": [
              "<div>\n",
              "<style scoped>\n",
              "    .dataframe tbody tr th:only-of-type {\n",
              "        vertical-align: middle;\n",
              "    }\n",
              "\n",
              "    .dataframe tbody tr th {\n",
              "        vertical-align: top;\n",
              "    }\n",
              "\n",
              "    .dataframe thead th {\n",
              "        text-align: right;\n",
              "    }\n",
              "</style>\n",
              "<table border=\"1\" class=\"dataframe\">\n",
              "  <thead>\n",
              "    <tr style=\"text-align: right;\">\n",
              "      <th></th>\n",
              "      <th>Title</th>\n",
              "      <th>Year</th>\n",
              "      <th>Age</th>\n",
              "      <th>IMDb</th>\n",
              "      <th>Rotten_Tomatoes</th>\n",
              "      <th>Netflix</th>\n",
              "      <th>Hulu</th>\n",
              "      <th>Prime Video</th>\n",
              "      <th>Disney+</th>\n",
              "      <th>Directors</th>\n",
              "      <th>Genres</th>\n",
              "      <th>Country</th>\n",
              "      <th>Language</th>\n",
              "      <th>Runtime</th>\n",
              "    </tr>\n",
              "    <tr>\n",
              "      <th>ID</th>\n",
              "      <th></th>\n",
              "      <th></th>\n",
              "      <th></th>\n",
              "      <th></th>\n",
              "      <th></th>\n",
              "      <th></th>\n",
              "      <th></th>\n",
              "      <th></th>\n",
              "      <th></th>\n",
              "      <th></th>\n",
              "      <th></th>\n",
              "      <th></th>\n",
              "      <th></th>\n",
              "      <th></th>\n",
              "    </tr>\n",
              "  </thead>\n",
              "  <tbody>\n",
              "    <tr>\n",
              "      <th>1</th>\n",
              "      <td>The Irishman</td>\n",
              "      <td>2019</td>\n",
              "      <td>18+</td>\n",
              "      <td>7.8</td>\n",
              "      <td>98</td>\n",
              "      <td>1</td>\n",
              "      <td>0</td>\n",
              "      <td>0</td>\n",
              "      <td>0</td>\n",
              "      <td>Martin Scorsese</td>\n",
              "      <td>Biography,Crime,Drama</td>\n",
              "      <td>United States</td>\n",
              "      <td>English,Italian,Latin,Spanish,German</td>\n",
              "      <td>209.0</td>\n",
              "    </tr>\n",
              "    <tr>\n",
              "      <th>2</th>\n",
              "      <td>Dangal</td>\n",
              "      <td>2016</td>\n",
              "      <td>7+</td>\n",
              "      <td>8.4</td>\n",
              "      <td>97</td>\n",
              "      <td>1</td>\n",
              "      <td>0</td>\n",
              "      <td>0</td>\n",
              "      <td>0</td>\n",
              "      <td>Nitesh Tiwari</td>\n",
              "      <td>Action,Biography,Drama,Sport</td>\n",
              "      <td>India,United States,United Kingdom,Australia,K...</td>\n",
              "      <td>Hindi,English</td>\n",
              "      <td>161.0</td>\n",
              "    </tr>\n",
              "    <tr>\n",
              "      <th>3</th>\n",
              "      <td>David Attenborough: A Life on Our Planet</td>\n",
              "      <td>2020</td>\n",
              "      <td>7+</td>\n",
              "      <td>9.0</td>\n",
              "      <td>95</td>\n",
              "      <td>1</td>\n",
              "      <td>0</td>\n",
              "      <td>0</td>\n",
              "      <td>0</td>\n",
              "      <td>Alastair Fothergill,Jonathan Hughes,Keith Scholey</td>\n",
              "      <td>Documentary,Biography</td>\n",
              "      <td>United Kingdom</td>\n",
              "      <td>English</td>\n",
              "      <td>83.0</td>\n",
              "    </tr>\n",
              "    <tr>\n",
              "      <th>4</th>\n",
              "      <td>Lagaan: Once Upon a Time in India</td>\n",
              "      <td>2001</td>\n",
              "      <td>7+</td>\n",
              "      <td>8.1</td>\n",
              "      <td>94</td>\n",
              "      <td>1</td>\n",
              "      <td>0</td>\n",
              "      <td>0</td>\n",
              "      <td>0</td>\n",
              "      <td>Ashutosh Gowariker</td>\n",
              "      <td>Drama,Musical,Sport</td>\n",
              "      <td>India,United Kingdom</td>\n",
              "      <td>Hindi,English</td>\n",
              "      <td>224.0</td>\n",
              "    </tr>\n",
              "    <tr>\n",
              "      <th>6</th>\n",
              "      <td>To All the Boys I've Loved Before</td>\n",
              "      <td>2018</td>\n",
              "      <td>13+</td>\n",
              "      <td>7.1</td>\n",
              "      <td>94</td>\n",
              "      <td>1</td>\n",
              "      <td>0</td>\n",
              "      <td>0</td>\n",
              "      <td>0</td>\n",
              "      <td>Susan Johnson</td>\n",
              "      <td>Comedy,Drama,Romance</td>\n",
              "      <td>United States</td>\n",
              "      <td>English</td>\n",
              "      <td>99.0</td>\n",
              "    </tr>\n",
              "  </tbody>\n",
              "</table>\n",
              "</div>"
            ],
            "text/plain": [
              "                                       Title  ...  Runtime\n",
              "ID                                            ...         \n",
              "1                               The Irishman  ...    209.0\n",
              "2                                     Dangal  ...    161.0\n",
              "3   David Attenborough: A Life on Our Planet  ...     83.0\n",
              "4          Lagaan: Once Upon a Time in India  ...    224.0\n",
              "6          To All the Boys I've Loved Before  ...     99.0\n",
              "\n",
              "[5 rows x 14 columns]"
            ]
          },
          "metadata": {},
          "execution_count": 9
        }
      ]
    },
    {
      "cell_type": "code",
      "metadata": {
        "id": "QehrD8d9eJ4i"
      },
      "source": [
        "streaming['Streaming_Channel_Count'] = streaming['Netflix'] + streaming['Prime Video'] + streaming['Hulu'] + streaming['Disney+']"
      ],
      "execution_count": null,
      "outputs": []
    },
    {
      "cell_type": "code",
      "metadata": {
        "id": "V7atH_eUeqYj"
      },
      "source": [
        "streaming['Runtime_hrs'] = streaming['Runtime']/60"
      ],
      "execution_count": null,
      "outputs": []
    },
    {
      "cell_type": "code",
      "metadata": {
        "colab": {
          "base_uri": "https://localhost:8080/",
          "height": 430
        },
        "id": "KmEo88WTe4t0",
        "outputId": "06eeb706-0707-4cdf-b090-38ab304c71ab"
      },
      "source": [
        "streaming.head()"
      ],
      "execution_count": null,
      "outputs": [
        {
          "output_type": "execute_result",
          "data": {
            "text/html": [
              "<div>\n",
              "<style scoped>\n",
              "    .dataframe tbody tr th:only-of-type {\n",
              "        vertical-align: middle;\n",
              "    }\n",
              "\n",
              "    .dataframe tbody tr th {\n",
              "        vertical-align: top;\n",
              "    }\n",
              "\n",
              "    .dataframe thead th {\n",
              "        text-align: right;\n",
              "    }\n",
              "</style>\n",
              "<table border=\"1\" class=\"dataframe\">\n",
              "  <thead>\n",
              "    <tr style=\"text-align: right;\">\n",
              "      <th></th>\n",
              "      <th>Title</th>\n",
              "      <th>Year</th>\n",
              "      <th>Age</th>\n",
              "      <th>IMDb</th>\n",
              "      <th>Rotten_Tomatoes</th>\n",
              "      <th>Netflix</th>\n",
              "      <th>Hulu</th>\n",
              "      <th>Prime Video</th>\n",
              "      <th>Disney+</th>\n",
              "      <th>Directors</th>\n",
              "      <th>Genres</th>\n",
              "      <th>Country</th>\n",
              "      <th>Language</th>\n",
              "      <th>Runtime</th>\n",
              "      <th>Streaming_Channel_Count</th>\n",
              "      <th>Runtime_hrs</th>\n",
              "    </tr>\n",
              "    <tr>\n",
              "      <th>ID</th>\n",
              "      <th></th>\n",
              "      <th></th>\n",
              "      <th></th>\n",
              "      <th></th>\n",
              "      <th></th>\n",
              "      <th></th>\n",
              "      <th></th>\n",
              "      <th></th>\n",
              "      <th></th>\n",
              "      <th></th>\n",
              "      <th></th>\n",
              "      <th></th>\n",
              "      <th></th>\n",
              "      <th></th>\n",
              "      <th></th>\n",
              "      <th></th>\n",
              "    </tr>\n",
              "  </thead>\n",
              "  <tbody>\n",
              "    <tr>\n",
              "      <th>1</th>\n",
              "      <td>The Irishman</td>\n",
              "      <td>2019</td>\n",
              "      <td>18+</td>\n",
              "      <td>7.8</td>\n",
              "      <td>98</td>\n",
              "      <td>1</td>\n",
              "      <td>0</td>\n",
              "      <td>0</td>\n",
              "      <td>0</td>\n",
              "      <td>Martin Scorsese</td>\n",
              "      <td>Biography,Crime,Drama</td>\n",
              "      <td>United States</td>\n",
              "      <td>English,Italian,Latin,Spanish,German</td>\n",
              "      <td>209.0</td>\n",
              "      <td>1</td>\n",
              "      <td>3.483333</td>\n",
              "    </tr>\n",
              "    <tr>\n",
              "      <th>2</th>\n",
              "      <td>Dangal</td>\n",
              "      <td>2016</td>\n",
              "      <td>7+</td>\n",
              "      <td>8.4</td>\n",
              "      <td>97</td>\n",
              "      <td>1</td>\n",
              "      <td>0</td>\n",
              "      <td>0</td>\n",
              "      <td>0</td>\n",
              "      <td>Nitesh Tiwari</td>\n",
              "      <td>Action,Biography,Drama,Sport</td>\n",
              "      <td>India,United States,United Kingdom,Australia,K...</td>\n",
              "      <td>Hindi,English</td>\n",
              "      <td>161.0</td>\n",
              "      <td>1</td>\n",
              "      <td>2.683333</td>\n",
              "    </tr>\n",
              "    <tr>\n",
              "      <th>3</th>\n",
              "      <td>David Attenborough: A Life on Our Planet</td>\n",
              "      <td>2020</td>\n",
              "      <td>7+</td>\n",
              "      <td>9.0</td>\n",
              "      <td>95</td>\n",
              "      <td>1</td>\n",
              "      <td>0</td>\n",
              "      <td>0</td>\n",
              "      <td>0</td>\n",
              "      <td>Alastair Fothergill,Jonathan Hughes,Keith Scholey</td>\n",
              "      <td>Documentary,Biography</td>\n",
              "      <td>United Kingdom</td>\n",
              "      <td>English</td>\n",
              "      <td>83.0</td>\n",
              "      <td>1</td>\n",
              "      <td>1.383333</td>\n",
              "    </tr>\n",
              "    <tr>\n",
              "      <th>4</th>\n",
              "      <td>Lagaan: Once Upon a Time in India</td>\n",
              "      <td>2001</td>\n",
              "      <td>7+</td>\n",
              "      <td>8.1</td>\n",
              "      <td>94</td>\n",
              "      <td>1</td>\n",
              "      <td>0</td>\n",
              "      <td>0</td>\n",
              "      <td>0</td>\n",
              "      <td>Ashutosh Gowariker</td>\n",
              "      <td>Drama,Musical,Sport</td>\n",
              "      <td>India,United Kingdom</td>\n",
              "      <td>Hindi,English</td>\n",
              "      <td>224.0</td>\n",
              "      <td>1</td>\n",
              "      <td>3.733333</td>\n",
              "    </tr>\n",
              "    <tr>\n",
              "      <th>6</th>\n",
              "      <td>To All the Boys I've Loved Before</td>\n",
              "      <td>2018</td>\n",
              "      <td>13+</td>\n",
              "      <td>7.1</td>\n",
              "      <td>94</td>\n",
              "      <td>1</td>\n",
              "      <td>0</td>\n",
              "      <td>0</td>\n",
              "      <td>0</td>\n",
              "      <td>Susan Johnson</td>\n",
              "      <td>Comedy,Drama,Romance</td>\n",
              "      <td>United States</td>\n",
              "      <td>English</td>\n",
              "      <td>99.0</td>\n",
              "      <td>1</td>\n",
              "      <td>1.650000</td>\n",
              "    </tr>\n",
              "  </tbody>\n",
              "</table>\n",
              "</div>"
            ],
            "text/plain": [
              "                                       Title  ...  Runtime_hrs\n",
              "ID                                            ...             \n",
              "1                               The Irishman  ...     3.483333\n",
              "2                                     Dangal  ...     2.683333\n",
              "3   David Attenborough: A Life on Our Planet  ...     1.383333\n",
              "4          Lagaan: Once Upon a Time in India  ...     3.733333\n",
              "6          To All the Boys I've Loved Before  ...     1.650000\n",
              "\n",
              "[5 rows x 16 columns]"
            ]
          },
          "metadata": {},
          "execution_count": 12
        }
      ]
    },
    {
      "cell_type": "code",
      "metadata": {
        "colab": {
          "base_uri": "https://localhost:8080/",
          "height": 300
        },
        "id": "qUOt8WmHH48C",
        "outputId": "d85a67a4-70cc-46f2-f791-f74de44e0d96"
      },
      "source": [
        "streaming.describe()"
      ],
      "execution_count": null,
      "outputs": [
        {
          "output_type": "execute_result",
          "data": {
            "text/html": [
              "<div>\n",
              "<style scoped>\n",
              "    .dataframe tbody tr th:only-of-type {\n",
              "        vertical-align: middle;\n",
              "    }\n",
              "\n",
              "    .dataframe tbody tr th {\n",
              "        vertical-align: top;\n",
              "    }\n",
              "\n",
              "    .dataframe thead th {\n",
              "        text-align: right;\n",
              "    }\n",
              "</style>\n",
              "<table border=\"1\" class=\"dataframe\">\n",
              "  <thead>\n",
              "    <tr style=\"text-align: right;\">\n",
              "      <th></th>\n",
              "      <th>Year</th>\n",
              "      <th>IMDb</th>\n",
              "      <th>Rotten_Tomatoes</th>\n",
              "      <th>Netflix</th>\n",
              "      <th>Hulu</th>\n",
              "      <th>Prime Video</th>\n",
              "      <th>Disney+</th>\n",
              "      <th>Runtime</th>\n",
              "      <th>Streaming_Channel_Count</th>\n",
              "      <th>Runtime_hrs</th>\n",
              "    </tr>\n",
              "  </thead>\n",
              "  <tbody>\n",
              "    <tr>\n",
              "      <th>count</th>\n",
              "      <td>5080.000000</td>\n",
              "      <td>5080.000000</td>\n",
              "      <td>5080.000000</td>\n",
              "      <td>5080.000000</td>\n",
              "      <td>5080.000000</td>\n",
              "      <td>5080.000000</td>\n",
              "      <td>5080.000000</td>\n",
              "      <td>5080.000000</td>\n",
              "      <td>5080.000000</td>\n",
              "      <td>5080.000000</td>\n",
              "    </tr>\n",
              "    <tr>\n",
              "      <th>mean</th>\n",
              "      <td>2008.325984</td>\n",
              "      <td>6.154252</td>\n",
              "      <td>58.976772</td>\n",
              "      <td>0.354921</td>\n",
              "      <td>0.137402</td>\n",
              "      <td>0.409055</td>\n",
              "      <td>0.130709</td>\n",
              "      <td>98.979921</td>\n",
              "      <td>1.032087</td>\n",
              "      <td>1.649665</td>\n",
              "    </tr>\n",
              "    <tr>\n",
              "      <th>std</th>\n",
              "      <td>14.287737</td>\n",
              "      <td>1.143680</td>\n",
              "      <td>12.341464</td>\n",
              "      <td>0.478537</td>\n",
              "      <td>0.344305</td>\n",
              "      <td>0.491708</td>\n",
              "      <td>0.337115</td>\n",
              "      <td>25.088361</td>\n",
              "      <td>0.182827</td>\n",
              "      <td>0.418139</td>\n",
              "    </tr>\n",
              "    <tr>\n",
              "      <th>min</th>\n",
              "      <td>1919.000000</td>\n",
              "      <td>1.100000</td>\n",
              "      <td>26.000000</td>\n",
              "      <td>0.000000</td>\n",
              "      <td>0.000000</td>\n",
              "      <td>0.000000</td>\n",
              "      <td>0.000000</td>\n",
              "      <td>2.000000</td>\n",
              "      <td>1.000000</td>\n",
              "      <td>0.033333</td>\n",
              "    </tr>\n",
              "    <tr>\n",
              "      <th>25%</th>\n",
              "      <td>2005.000000</td>\n",
              "      <td>5.500000</td>\n",
              "      <td>50.000000</td>\n",
              "      <td>0.000000</td>\n",
              "      <td>0.000000</td>\n",
              "      <td>0.000000</td>\n",
              "      <td>0.000000</td>\n",
              "      <td>88.000000</td>\n",
              "      <td>1.000000</td>\n",
              "      <td>1.466667</td>\n",
              "    </tr>\n",
              "    <tr>\n",
              "      <th>50%</th>\n",
              "      <td>2013.000000</td>\n",
              "      <td>6.200000</td>\n",
              "      <td>58.000000</td>\n",
              "      <td>0.000000</td>\n",
              "      <td>0.000000</td>\n",
              "      <td>0.000000</td>\n",
              "      <td>0.000000</td>\n",
              "      <td>97.000000</td>\n",
              "      <td>1.000000</td>\n",
              "      <td>1.616667</td>\n",
              "    </tr>\n",
              "    <tr>\n",
              "      <th>75%</th>\n",
              "      <td>2018.000000</td>\n",
              "      <td>7.000000</td>\n",
              "      <td>67.000000</td>\n",
              "      <td>1.000000</td>\n",
              "      <td>0.000000</td>\n",
              "      <td>1.000000</td>\n",
              "      <td>0.000000</td>\n",
              "      <td>110.000000</td>\n",
              "      <td>1.000000</td>\n",
              "      <td>1.833333</td>\n",
              "    </tr>\n",
              "    <tr>\n",
              "      <th>max</th>\n",
              "      <td>2021.000000</td>\n",
              "      <td>9.000000</td>\n",
              "      <td>98.000000</td>\n",
              "      <td>1.000000</td>\n",
              "      <td>1.000000</td>\n",
              "      <td>1.000000</td>\n",
              "      <td>1.000000</td>\n",
              "      <td>359.000000</td>\n",
              "      <td>4.000000</td>\n",
              "      <td>5.983333</td>\n",
              "    </tr>\n",
              "  </tbody>\n",
              "</table>\n",
              "</div>"
            ],
            "text/plain": [
              "              Year         IMDb  ...  Streaming_Channel_Count  Runtime_hrs\n",
              "count  5080.000000  5080.000000  ...              5080.000000  5080.000000\n",
              "mean   2008.325984     6.154252  ...                 1.032087     1.649665\n",
              "std      14.287737     1.143680  ...                 0.182827     0.418139\n",
              "min    1919.000000     1.100000  ...                 1.000000     0.033333\n",
              "25%    2005.000000     5.500000  ...                 1.000000     1.466667\n",
              "50%    2013.000000     6.200000  ...                 1.000000     1.616667\n",
              "75%    2018.000000     7.000000  ...                 1.000000     1.833333\n",
              "max    2021.000000     9.000000  ...                 4.000000     5.983333\n",
              "\n",
              "[8 rows x 10 columns]"
            ]
          },
          "metadata": {},
          "execution_count": 13
        }
      ]
    },
    {
      "cell_type": "code",
      "metadata": {
        "colab": {
          "base_uri": "https://localhost:8080/",
          "height": 295
        },
        "id": "8bnJBZiGe6Ar",
        "outputId": "d0b21552-3476-416c-ced9-2b2150dfdbcc"
      },
      "source": [
        "import seaborn as sns\n",
        "import matplotlib.pyplot as plt\n",
        "\n",
        "fig, ax = plt.subplots()\n",
        "\n",
        "ax.hist(streaming['Rotten_Tomatoes'], bins=50)\n",
        "\n",
        "ax.set_xlabel('Scores out of 100') \n",
        "ax.set_ylabel('Frequency') \n",
        "ax.set_title('Rotten Tomatoes scores') \n",
        "plt.show()"
      ],
      "execution_count": null,
      "outputs": [
        {
          "output_type": "display_data",
          "data": {
            "image/png": "[encoded data removed]",
            "text/plain": [
              "<Figure size 432x288 with 1 Axes>"
            ]
          },
          "metadata": {
            "needs_background": "light"
          }
        }
      ]
    },
    {
      "cell_type": "code",
      "metadata": {
        "id": "EoHNXCeMI04B"
      },
      "source": [
        "streaming_netflix = streaming[streaming['Netflix']==1]\n",
        "streaming_hulu = streaming[streaming['Hulu']==1]\n",
        "streaming_prime = streaming[streaming['Prime Video']==1]\n",
        "streaming_disney = streaming[streaming['Disney+']==1]"
      ],
      "execution_count": null,
      "outputs": []
    },
    {
      "cell_type": "code",
      "metadata": {
        "colab": {
          "base_uri": "https://localhost:8080/"
        },
        "id": "vBrlCAkyfDd4",
        "outputId": "764b3edb-4cf9-4bce-d71d-87a310e1a1f2"
      },
      "source": [
        "fig, ax = plt.subplots()\n",
        "\n",
        "ax.hist(streaming_netflix['IMDb'], bins=50)\n",
        "\n",
        "ax.set_xlabel('IMDb scores') \n",
        "ax.set_ylabel('Frequency') \n",
        "ax.set_title('Netflix Movie scores') \n",
        "plt.show()"
      ],
      "execution_count": null,
      "outputs": [
        {
          "output_type": "display_data",
          "data": {
            "image/png": "[encoded data removed]",
            "text/plain": [
              "<Figure size 432x288 with 1 Axes>"
            ]
          },
          "metadata": {
            "needs_background": "light"
          }
        }
      ]
    },
    {
      "cell_type": "code",
      "metadata": {
        "colab": {
          "base_uri": "https://localhost:8080/",
          "height": 295
        },
        "id": "LeZ8JTrFJiGU",
        "outputId": "e143c3ef-e931-44e0-e7cf-5601e8ae2306"
      },
      "source": [
        "fig, ax = plt.subplots()\n",
        "\n",
        "ax.hist(streaming_hulu['IMDb'], bins=50)\n",
        "\n",
        "ax.set_xlabel('IMDb scores') \n",
        "ax.set_ylabel('Frequency') \n",
        "ax.set_title('Hulu Movie scores') \n",
        "plt.show()"
      ],
      "execution_count": null,
      "outputs": [
        {
          "output_type": "display_data",
          "data": {
            "image/png": "[encoded data removed]",
            "text/plain": [
              "<Figure size 432x288 with 1 Axes>"
            ]
          },
          "metadata": {
            "needs_background": "light"
          }
        }
      ]
    },
    {
      "cell_type": "code",
      "metadata": {
        "colab": {
          "base_uri": "https://localhost:8080/",
          "height": 295
        },
        "id": "PglCYxB_JqAq",
        "outputId": "aa3a0091-7fd4-4773-feb2-2332f5c380f8"
      },
      "source": [
        "fig, ax = plt.subplots()\n",
        "\n",
        "ax.hist(streaming_prime['IMDb'], bins=50)\n",
        "\n",
        "ax.set_xlabel('IMDb scores') \n",
        "ax.set_ylabel('Frequency') \n",
        "ax.set_title('Amazon Prime Video Movie scores') \n",
        "plt.show()"
      ],
      "execution_count": null,
      "outputs": [
        {
          "output_type": "display_data",
          "data": {
            "image/png": "[encoded data removed]",
            "text/plain": [
              "<Figure size 432x288 with 1 Axes>"
            ]
          },
          "metadata": {
            "needs_background": "light"
          }
        }
      ]
    },
    {
      "cell_type": "code",
      "metadata": {
        "colab": {
          "base_uri": "https://localhost:8080/",
          "height": 295
        },
        "id": "BxbFWoyXJuaG",
        "outputId": "54b2c65c-6775-492d-c73e-8243f0210fee"
      },
      "source": [
        "fig, ax = plt.subplots()\n",
        "\n",
        "ax.hist(streaming_disney['IMDb'], bins=50)\n",
        "\n",
        "ax.set_xlabel('IMDb scores') \n",
        "ax.set_ylabel('Frequency') \n",
        "ax.set_title('Disney+ Movie scores') \n",
        "plt.show()"
      ],
      "execution_count": null,
      "outputs": [
        {
          "output_type": "display_data",
          "data": {
            "image/png": "[encoded data removed]",
            "text/plain": [
              "<Figure size 432x288 with 1 Axes>"
            ]
          },
          "metadata": {
            "needs_background": "light"
          }
        }
      ]
    },
    {
      "cell_type": "code",
      "metadata": {
        "colab": {
          "base_uri": "https://localhost:8080/"
        },
        "id": "M6cYyWwzJ4qX",
        "outputId": "5d63481d-fd4e-4337-ff4e-b679cca525b7"
      },
      "source": [
        "import scipy.stats as st\n",
        "st.ttest_1samp(streaming_hulu['IMDb'], 7.0)"
      ],
      "execution_count": null,
      "outputs": [
        {
          "output_type": "execute_result",
          "data": {
            "text/plain": [
              "Ttest_1sampResult(statistic=-17.62181734831927, pvalue=9.242948034006813e-58)"
            ]
          },
          "metadata": {},
          "execution_count": 20
        }
      ]
    },
    {
      "cell_type": "code",
      "metadata": {
        "colab": {
          "base_uri": "https://localhost:8080/"
        },
        "id": "KxVYM8cLLnx5",
        "outputId": "a50d09ce-ad32-4301-d338-959e0b3945a8"
      },
      "source": [
        "import scipy.stats as st\n",
        "st.ttest_1samp(streaming_hulu['IMDb'], 7.0)"
      ],
      "execution_count": null,
      "outputs": [
        {
          "output_type": "execute_result",
          "data": {
            "text/plain": [
              "Ttest_1sampResult(statistic=-17.62181734831927, pvalue=9.242948034006813e-58)"
            ]
          },
          "metadata": {},
          "execution_count": 21
        }
      ]
    },
    {
      "cell_type": "code",
      "metadata": {
        "colab": {
          "base_uri": "https://localhost:8080/"
        },
        "id": "H8rN7CczLwrn",
        "outputId": "593c542d-5371-4a0a-c533-70a94e64d813"
      },
      "source": [
        "import scipy.stats as st\n",
        "st.ttest_1samp(streaming_prime['IMDb'], 7.0)"
      ],
      "execution_count": null,
      "outputs": [
        {
          "output_type": "execute_result",
          "data": {
            "text/plain": [
              "Ttest_1sampResult(statistic=-42.819618256444464, pvalue=1.0707866957866429e-287)"
            ]
          },
          "metadata": {},
          "execution_count": 22
        }
      ]
    },
    {
      "cell_type": "code",
      "metadata": {
        "colab": {
          "base_uri": "https://localhost:8080/"
        },
        "id": "uYjI4l8wLyCY",
        "outputId": "1c91a91c-f4c5-456c-fd46-3f448d700202"
      },
      "source": [
        "import scipy.stats as st\n",
        "st.ttest_1samp(streaming_disney['IMDb'], 7.0)"
      ],
      "execution_count": null,
      "outputs": [
        {
          "output_type": "execute_result",
          "data": {
            "text/plain": [
              "Ttest_1sampResult(statistic=-13.166524162319229, pvalue=2.4496676476198683e-35)"
            ]
          },
          "metadata": {},
          "execution_count": 23
        }
      ]
    },
    {
      "cell_type": "code",
      "metadata": {
        "colab": {
          "base_uri": "https://localhost:8080/",
          "height": 300
        },
        "id": "PWCzElw-L7hO",
        "outputId": "7d6e544d-3642-4602-cc61-2c24f6a7c5a4"
      },
      "source": [
        "streaming_disney.describe()"
      ],
      "execution_count": null,
      "outputs": [
        {
          "output_type": "execute_result",
          "data": {
            "text/html": [
              "<div>\n",
              "<style scoped>\n",
              "    .dataframe tbody tr th:only-of-type {\n",
              "        vertical-align: middle;\n",
              "    }\n",
              "\n",
              "    .dataframe tbody tr th {\n",
              "        vertical-align: top;\n",
              "    }\n",
              "\n",
              "    .dataframe thead th {\n",
              "        text-align: right;\n",
              "    }\n",
              "</style>\n",
              "<table border=\"1\" class=\"dataframe\">\n",
              "  <thead>\n",
              "    <tr style=\"text-align: right;\">\n",
              "      <th></th>\n",
              "      <th>Year</th>\n",
              "      <th>IMDb</th>\n",
              "      <th>Rotten_Tomatoes</th>\n",
              "      <th>Netflix</th>\n",
              "      <th>Hulu</th>\n",
              "      <th>Prime Video</th>\n",
              "      <th>Disney+</th>\n",
              "      <th>Runtime</th>\n",
              "      <th>Streaming_Channel_Count</th>\n",
              "      <th>Runtime_hrs</th>\n",
              "    </tr>\n",
              "  </thead>\n",
              "  <tbody>\n",
              "    <tr>\n",
              "      <th>count</th>\n",
              "      <td>664.000000</td>\n",
              "      <td>664.000000</td>\n",
              "      <td>664.000000</td>\n",
              "      <td>664.000000</td>\n",
              "      <td>664.000000</td>\n",
              "      <td>664.000000</td>\n",
              "      <td>664.0</td>\n",
              "      <td>664.000000</td>\n",
              "      <td>664.000000</td>\n",
              "      <td>664.000000</td>\n",
              "    </tr>\n",
              "    <tr>\n",
              "      <th>mean</th>\n",
              "      <td>2000.251506</td>\n",
              "      <td>6.486747</td>\n",
              "      <td>63.167169</td>\n",
              "      <td>0.004518</td>\n",
              "      <td>0.006024</td>\n",
              "      <td>0.009036</td>\n",
              "      <td>1.0</td>\n",
              "      <td>87.469880</td>\n",
              "      <td>1.019578</td>\n",
              "      <td>1.457831</td>\n",
              "    </tr>\n",
              "    <tr>\n",
              "      <th>std</th>\n",
              "      <td>18.301769</td>\n",
              "      <td>1.004487</td>\n",
              "      <td>11.808965</td>\n",
              "      <td>0.067115</td>\n",
              "      <td>0.077439</td>\n",
              "      <td>0.094700</td>\n",
              "      <td>0.0</td>\n",
              "      <td>32.834366</td>\n",
              "      <td>0.168148</td>\n",
              "      <td>0.547239</td>\n",
              "    </tr>\n",
              "    <tr>\n",
              "      <th>min</th>\n",
              "      <td>1928.000000</td>\n",
              "      <td>1.600000</td>\n",
              "      <td>33.000000</td>\n",
              "      <td>0.000000</td>\n",
              "      <td>0.000000</td>\n",
              "      <td>0.000000</td>\n",
              "      <td>1.0</td>\n",
              "      <td>2.000000</td>\n",
              "      <td>1.000000</td>\n",
              "      <td>0.033333</td>\n",
              "    </tr>\n",
              "    <tr>\n",
              "      <th>25%</th>\n",
              "      <td>1995.000000</td>\n",
              "      <td>5.875000</td>\n",
              "      <td>55.000000</td>\n",
              "      <td>0.000000</td>\n",
              "      <td>0.000000</td>\n",
              "      <td>0.000000</td>\n",
              "      <td>1.0</td>\n",
              "      <td>78.000000</td>\n",
              "      <td>1.000000</td>\n",
              "      <td>1.300000</td>\n",
              "    </tr>\n",
              "    <tr>\n",
              "      <th>50%</th>\n",
              "      <td>2005.000000</td>\n",
              "      <td>6.500000</td>\n",
              "      <td>62.000000</td>\n",
              "      <td>0.000000</td>\n",
              "      <td>0.000000</td>\n",
              "      <td>0.000000</td>\n",
              "      <td>1.0</td>\n",
              "      <td>92.000000</td>\n",
              "      <td>1.000000</td>\n",
              "      <td>1.533333</td>\n",
              "    </tr>\n",
              "    <tr>\n",
              "      <th>75%</th>\n",
              "      <td>2013.000000</td>\n",
              "      <td>7.200000</td>\n",
              "      <td>72.000000</td>\n",
              "      <td>0.000000</td>\n",
              "      <td>0.000000</td>\n",
              "      <td>0.000000</td>\n",
              "      <td>1.0</td>\n",
              "      <td>105.000000</td>\n",
              "      <td>1.000000</td>\n",
              "      <td>1.750000</td>\n",
              "    </tr>\n",
              "    <tr>\n",
              "      <th>max</th>\n",
              "      <td>2021.000000</td>\n",
              "      <td>8.700000</td>\n",
              "      <td>96.000000</td>\n",
              "      <td>1.000000</td>\n",
              "      <td>1.000000</td>\n",
              "      <td>1.000000</td>\n",
              "      <td>1.0</td>\n",
              "      <td>181.000000</td>\n",
              "      <td>4.000000</td>\n",
              "      <td>3.016667</td>\n",
              "    </tr>\n",
              "  </tbody>\n",
              "</table>\n",
              "</div>"
            ],
            "text/plain": [
              "              Year        IMDb  ...  Streaming_Channel_Count  Runtime_hrs\n",
              "count   664.000000  664.000000  ...               664.000000   664.000000\n",
              "mean   2000.251506    6.486747  ...                 1.019578     1.457831\n",
              "std      18.301769    1.004487  ...                 0.168148     0.547239\n",
              "min    1928.000000    1.600000  ...                 1.000000     0.033333\n",
              "25%    1995.000000    5.875000  ...                 1.000000     1.300000\n",
              "50%    2005.000000    6.500000  ...                 1.000000     1.533333\n",
              "75%    2013.000000    7.200000  ...                 1.000000     1.750000\n",
              "max    2021.000000    8.700000  ...                 4.000000     3.016667\n",
              "\n",
              "[8 rows x 10 columns]"
            ]
          },
          "metadata": {},
          "execution_count": 24
        }
      ]
    },
    {
      "cell_type": "code",
      "metadata": {
        "colab": {
          "base_uri": "https://localhost:8080/"
        },
        "id": "t_pQkAaLNe_i",
        "outputId": "048e4df2-8796-4bd3-965b-1570e21839a8"
      },
      "source": [
        "streaming_netflix.describe()"
      ],
      "execution_count": null,
      "outputs": [
        {
          "output_type": "execute_result",
          "data": {
            "text/html": [
              "<div>\n",
              "<style scoped>\n",
              "    .dataframe tbody tr th:only-of-type {\n",
              "        vertical-align: middle;\n",
              "    }\n",
              "\n",
              "    .dataframe tbody tr th {\n",
              "        vertical-align: top;\n",
              "    }\n",
              "\n",
              "    .dataframe thead th {\n",
              "        text-align: right;\n",
              "    }\n",
              "</style>\n",
              "<table border=\"1\" class=\"dataframe\">\n",
              "  <thead>\n",
              "    <tr style=\"text-align: right;\">\n",
              "      <th></th>\n",
              "      <th>Year</th>\n",
              "      <th>IMDb</th>\n",
              "      <th>Rotten_Tomatoes</th>\n",
              "      <th>Netflix</th>\n",
              "      <th>Hulu</th>\n",
              "      <th>Prime Video</th>\n",
              "      <th>Disney+</th>\n",
              "      <th>Runtime</th>\n",
              "      <th>Streaming_Channel_Count</th>\n",
              "      <th>Runtime_hrs</th>\n",
              "    </tr>\n",
              "  </thead>\n",
              "  <tbody>\n",
              "    <tr>\n",
              "      <th>count</th>\n",
              "      <td>1803.000000</td>\n",
              "      <td>1803.000000</td>\n",
              "      <td>1803.000000</td>\n",
              "      <td>1803.0</td>\n",
              "      <td>1803.000000</td>\n",
              "      <td>1803.000000</td>\n",
              "      <td>1803.000000</td>\n",
              "      <td>1803.000000</td>\n",
              "      <td>1803.000000</td>\n",
              "      <td>1803.000000</td>\n",
              "    </tr>\n",
              "    <tr>\n",
              "      <th>mean</th>\n",
              "      <td>2014.277316</td>\n",
              "      <td>6.304326</td>\n",
              "      <td>61.044925</td>\n",
              "      <td>1.0</td>\n",
              "      <td>0.015530</td>\n",
              "      <td>0.036606</td>\n",
              "      <td>0.001664</td>\n",
              "      <td>102.736550</td>\n",
              "      <td>1.053799</td>\n",
              "      <td>1.712276</td>\n",
              "    </tr>\n",
              "    <tr>\n",
              "      <th>std</th>\n",
              "      <td>7.608167</td>\n",
              "      <td>1.095771</td>\n",
              "      <td>12.439317</td>\n",
              "      <td>0.0</td>\n",
              "      <td>0.123681</td>\n",
              "      <td>0.187844</td>\n",
              "      <td>0.040768</td>\n",
              "      <td>26.702121</td>\n",
              "      <td>0.239984</td>\n",
              "      <td>0.445035</td>\n",
              "    </tr>\n",
              "    <tr>\n",
              "      <th>min</th>\n",
              "      <td>1964.000000</td>\n",
              "      <td>2.000000</td>\n",
              "      <td>29.000000</td>\n",
              "      <td>1.0</td>\n",
              "      <td>0.000000</td>\n",
              "      <td>0.000000</td>\n",
              "      <td>0.000000</td>\n",
              "      <td>9.000000</td>\n",
              "      <td>1.000000</td>\n",
              "      <td>0.150000</td>\n",
              "    </tr>\n",
              "    <tr>\n",
              "      <th>25%</th>\n",
              "      <td>2012.000000</td>\n",
              "      <td>5.600000</td>\n",
              "      <td>52.000000</td>\n",
              "      <td>1.0</td>\n",
              "      <td>0.000000</td>\n",
              "      <td>0.000000</td>\n",
              "      <td>0.000000</td>\n",
              "      <td>90.000000</td>\n",
              "      <td>1.000000</td>\n",
              "      <td>1.500000</td>\n",
              "    </tr>\n",
              "    <tr>\n",
              "      <th>50%</th>\n",
              "      <td>2017.000000</td>\n",
              "      <td>6.400000</td>\n",
              "      <td>60.000000</td>\n",
              "      <td>1.0</td>\n",
              "      <td>0.000000</td>\n",
              "      <td>0.000000</td>\n",
              "      <td>0.000000</td>\n",
              "      <td>100.000000</td>\n",
              "      <td>1.000000</td>\n",
              "      <td>1.666667</td>\n",
              "    </tr>\n",
              "    <tr>\n",
              "      <th>75%</th>\n",
              "      <td>2019.000000</td>\n",
              "      <td>7.100000</td>\n",
              "      <td>70.000000</td>\n",
              "      <td>1.0</td>\n",
              "      <td>0.000000</td>\n",
              "      <td>0.000000</td>\n",
              "      <td>0.000000</td>\n",
              "      <td>116.000000</td>\n",
              "      <td>1.000000</td>\n",
              "      <td>1.933333</td>\n",
              "    </tr>\n",
              "    <tr>\n",
              "      <th>max</th>\n",
              "      <td>2021.000000</td>\n",
              "      <td>9.000000</td>\n",
              "      <td>98.000000</td>\n",
              "      <td>1.0</td>\n",
              "      <td>1.000000</td>\n",
              "      <td>1.000000</td>\n",
              "      <td>1.000000</td>\n",
              "      <td>359.000000</td>\n",
              "      <td>4.000000</td>\n",
              "      <td>5.983333</td>\n",
              "    </tr>\n",
              "  </tbody>\n",
              "</table>\n",
              "</div>"
            ],
            "text/plain": [
              "              Year         IMDb  ...  Streaming_Channel_Count  Runtime_hrs\n",
              "count  1803.000000  1803.000000  ...              1803.000000  1803.000000\n",
              "mean   2014.277316     6.304326  ...                 1.053799     1.712276\n",
              "std       7.608167     1.095771  ...                 0.239984     0.445035\n",
              "min    1964.000000     2.000000  ...                 1.000000     0.150000\n",
              "25%    2012.000000     5.600000  ...                 1.000000     1.500000\n",
              "50%    2017.000000     6.400000  ...                 1.000000     1.666667\n",
              "75%    2019.000000     7.100000  ...                 1.000000     1.933333\n",
              "max    2021.000000     9.000000  ...                 4.000000     5.983333\n",
              "\n",
              "[8 rows x 10 columns]"
            ]
          },
          "metadata": {},
          "execution_count": 25
        }
      ]
    },
    {
      "cell_type": "code",
      "metadata": {
        "colab": {
          "base_uri": "https://localhost:8080/"
        },
        "id": "NA9OlyLzNii1",
        "outputId": "e5d23e0f-60ac-41d3-ebbd-fe409d7a0eb1"
      },
      "source": [
        "streaming_hulu.describe()"
      ],
      "execution_count": null,
      "outputs": [
        {
          "output_type": "execute_result",
          "data": {
            "text/html": [
              "<div>\n",
              "<style scoped>\n",
              "    .dataframe tbody tr th:only-of-type {\n",
              "        vertical-align: middle;\n",
              "    }\n",
              "\n",
              "    .dataframe tbody tr th {\n",
              "        vertical-align: top;\n",
              "    }\n",
              "\n",
              "    .dataframe thead th {\n",
              "        text-align: right;\n",
              "    }\n",
              "</style>\n",
              "<table border=\"1\" class=\"dataframe\">\n",
              "  <thead>\n",
              "    <tr style=\"text-align: right;\">\n",
              "      <th></th>\n",
              "      <th>Year</th>\n",
              "      <th>IMDb</th>\n",
              "      <th>Rotten_Tomatoes</th>\n",
              "      <th>Netflix</th>\n",
              "      <th>Hulu</th>\n",
              "      <th>Prime Video</th>\n",
              "      <th>Disney+</th>\n",
              "      <th>Runtime</th>\n",
              "      <th>Streaming_Channel_Count</th>\n",
              "      <th>Runtime_hrs</th>\n",
              "    </tr>\n",
              "  </thead>\n",
              "  <tbody>\n",
              "    <tr>\n",
              "      <th>count</th>\n",
              "      <td>698.000000</td>\n",
              "      <td>698.000000</td>\n",
              "      <td>698.000000</td>\n",
              "      <td>698.000000</td>\n",
              "      <td>698.0</td>\n",
              "      <td>698.000000</td>\n",
              "      <td>698.000000</td>\n",
              "      <td>698.000000</td>\n",
              "      <td>698.000000</td>\n",
              "      <td>698.000000</td>\n",
              "    </tr>\n",
              "    <tr>\n",
              "      <th>mean</th>\n",
              "      <td>2010.621777</td>\n",
              "      <td>6.286246</td>\n",
              "      <td>63.772206</td>\n",
              "      <td>0.040115</td>\n",
              "      <td>1.0</td>\n",
              "      <td>0.088825</td>\n",
              "      <td>0.005731</td>\n",
              "      <td>101.345272</td>\n",
              "      <td>1.134670</td>\n",
              "      <td>1.689088</td>\n",
              "    </tr>\n",
              "    <tr>\n",
              "      <th>std</th>\n",
              "      <td>11.025869</td>\n",
              "      <td>1.070102</td>\n",
              "      <td>10.697268</td>\n",
              "      <td>0.196369</td>\n",
              "      <td>0.0</td>\n",
              "      <td>0.284695</td>\n",
              "      <td>0.075538</td>\n",
              "      <td>21.529460</td>\n",
              "      <td>0.365948</td>\n",
              "      <td>0.358824</td>\n",
              "    </tr>\n",
              "    <tr>\n",
              "      <th>min</th>\n",
              "      <td>1940.000000</td>\n",
              "      <td>2.100000</td>\n",
              "      <td>31.000000</td>\n",
              "      <td>0.000000</td>\n",
              "      <td>1.0</td>\n",
              "      <td>0.000000</td>\n",
              "      <td>0.000000</td>\n",
              "      <td>5.000000</td>\n",
              "      <td>1.000000</td>\n",
              "      <td>0.083333</td>\n",
              "    </tr>\n",
              "    <tr>\n",
              "      <th>25%</th>\n",
              "      <td>2007.000000</td>\n",
              "      <td>5.600000</td>\n",
              "      <td>56.000000</td>\n",
              "      <td>0.000000</td>\n",
              "      <td>1.0</td>\n",
              "      <td>0.000000</td>\n",
              "      <td>0.000000</td>\n",
              "      <td>90.000000</td>\n",
              "      <td>1.000000</td>\n",
              "      <td>1.500000</td>\n",
              "    </tr>\n",
              "    <tr>\n",
              "      <th>50%</th>\n",
              "      <td>2015.000000</td>\n",
              "      <td>6.400000</td>\n",
              "      <td>64.000000</td>\n",
              "      <td>0.000000</td>\n",
              "      <td>1.0</td>\n",
              "      <td>0.000000</td>\n",
              "      <td>0.000000</td>\n",
              "      <td>100.000000</td>\n",
              "      <td>1.000000</td>\n",
              "      <td>1.666667</td>\n",
              "    </tr>\n",
              "    <tr>\n",
              "      <th>75%</th>\n",
              "      <td>2018.000000</td>\n",
              "      <td>7.100000</td>\n",
              "      <td>72.000000</td>\n",
              "      <td>0.000000</td>\n",
              "      <td>1.0</td>\n",
              "      <td>0.000000</td>\n",
              "      <td>0.000000</td>\n",
              "      <td>110.000000</td>\n",
              "      <td>1.000000</td>\n",
              "      <td>1.833333</td>\n",
              "    </tr>\n",
              "    <tr>\n",
              "      <th>max</th>\n",
              "      <td>2021.000000</td>\n",
              "      <td>9.000000</td>\n",
              "      <td>94.000000</td>\n",
              "      <td>1.000000</td>\n",
              "      <td>1.0</td>\n",
              "      <td>1.000000</td>\n",
              "      <td>1.000000</td>\n",
              "      <td>317.000000</td>\n",
              "      <td>4.000000</td>\n",
              "      <td>5.283333</td>\n",
              "    </tr>\n",
              "  </tbody>\n",
              "</table>\n",
              "</div>"
            ],
            "text/plain": [
              "              Year        IMDb  ...  Streaming_Channel_Count  Runtime_hrs\n",
              "count   698.000000  698.000000  ...               698.000000   698.000000\n",
              "mean   2010.621777    6.286246  ...                 1.134670     1.689088\n",
              "std      11.025869    1.070102  ...                 0.365948     0.358824\n",
              "min    1940.000000    2.100000  ...                 1.000000     0.083333\n",
              "25%    2007.000000    5.600000  ...                 1.000000     1.500000\n",
              "50%    2015.000000    6.400000  ...                 1.000000     1.666667\n",
              "75%    2018.000000    7.100000  ...                 1.000000     1.833333\n",
              "max    2021.000000    9.000000  ...                 4.000000     5.283333\n",
              "\n",
              "[8 rows x 10 columns]"
            ]
          },
          "metadata": {},
          "execution_count": 26
        }
      ]
    },
    {
      "cell_type": "code",
      "metadata": {
        "colab": {
          "base_uri": "https://localhost:8080/",
          "height": 300
        },
        "id": "jykql7LfNk4Y",
        "outputId": "150e90fb-63c3-4b88-e89a-6fa9a5c26d88"
      },
      "source": [
        "streaming_prime.describe()"
      ],
      "execution_count": null,
      "outputs": [
        {
          "output_type": "execute_result",
          "data": {
            "text/html": [
              "<div>\n",
              "<style scoped>\n",
              "    .dataframe tbody tr th:only-of-type {\n",
              "        vertical-align: middle;\n",
              "    }\n",
              "\n",
              "    .dataframe tbody tr th {\n",
              "        vertical-align: top;\n",
              "    }\n",
              "\n",
              "    .dataframe thead th {\n",
              "        text-align: right;\n",
              "    }\n",
              "</style>\n",
              "<table border=\"1\" class=\"dataframe\">\n",
              "  <thead>\n",
              "    <tr style=\"text-align: right;\">\n",
              "      <th></th>\n",
              "      <th>Year</th>\n",
              "      <th>IMDb</th>\n",
              "      <th>Rotten_Tomatoes</th>\n",
              "      <th>Netflix</th>\n",
              "      <th>Hulu</th>\n",
              "      <th>Prime Video</th>\n",
              "      <th>Disney+</th>\n",
              "      <th>Runtime</th>\n",
              "      <th>Streaming_Channel_Count</th>\n",
              "      <th>Runtime_hrs</th>\n",
              "    </tr>\n",
              "  </thead>\n",
              "  <tbody>\n",
              "    <tr>\n",
              "      <th>count</th>\n",
              "      <td>2078.000000</td>\n",
              "      <td>2078.000000</td>\n",
              "      <td>2078.000000</td>\n",
              "      <td>2078.000000</td>\n",
              "      <td>2078.000000</td>\n",
              "      <td>2078.0</td>\n",
              "      <td>2078.000000</td>\n",
              "      <td>2078.000000</td>\n",
              "      <td>2078.000000</td>\n",
              "      <td>2078.000000</td>\n",
              "    </tr>\n",
              "    <tr>\n",
              "      <th>mean</th>\n",
              "      <td>2004.960058</td>\n",
              "      <td>5.889654</td>\n",
              "      <td>54.716073</td>\n",
              "      <td>0.031761</td>\n",
              "      <td>0.029836</td>\n",
              "      <td>1.0</td>\n",
              "      <td>0.002887</td>\n",
              "      <td>99.099134</td>\n",
              "      <td>1.064485</td>\n",
              "      <td>1.651652</td>\n",
              "    </tr>\n",
              "    <tr>\n",
              "      <th>std</th>\n",
              "      <td>15.686439</td>\n",
              "      <td>1.182057</td>\n",
              "      <td>11.457915</td>\n",
              "      <td>0.175406</td>\n",
              "      <td>0.170177</td>\n",
              "      <td>0.0</td>\n",
              "      <td>0.053670</td>\n",
              "      <td>20.615138</td>\n",
              "      <td>0.257164</td>\n",
              "      <td>0.343586</td>\n",
              "    </tr>\n",
              "    <tr>\n",
              "      <th>min</th>\n",
              "      <td>1919.000000</td>\n",
              "      <td>1.100000</td>\n",
              "      <td>26.000000</td>\n",
              "      <td>0.000000</td>\n",
              "      <td>0.000000</td>\n",
              "      <td>1.0</td>\n",
              "      <td>0.000000</td>\n",
              "      <td>22.000000</td>\n",
              "      <td>1.000000</td>\n",
              "      <td>0.366667</td>\n",
              "    </tr>\n",
              "    <tr>\n",
              "      <th>25%</th>\n",
              "      <td>2000.000000</td>\n",
              "      <td>5.200000</td>\n",
              "      <td>46.000000</td>\n",
              "      <td>0.000000</td>\n",
              "      <td>0.000000</td>\n",
              "      <td>1.0</td>\n",
              "      <td>0.000000</td>\n",
              "      <td>89.000000</td>\n",
              "      <td>1.000000</td>\n",
              "      <td>1.483333</td>\n",
              "    </tr>\n",
              "    <tr>\n",
              "      <th>50%</th>\n",
              "      <td>2010.000000</td>\n",
              "      <td>6.000000</td>\n",
              "      <td>54.000000</td>\n",
              "      <td>0.000000</td>\n",
              "      <td>0.000000</td>\n",
              "      <td>1.0</td>\n",
              "      <td>0.000000</td>\n",
              "      <td>96.000000</td>\n",
              "      <td>1.000000</td>\n",
              "      <td>1.600000</td>\n",
              "    </tr>\n",
              "    <tr>\n",
              "      <th>75%</th>\n",
              "      <td>2016.000000</td>\n",
              "      <td>6.700000</td>\n",
              "      <td>63.000000</td>\n",
              "      <td>0.000000</td>\n",
              "      <td>0.000000</td>\n",
              "      <td>1.0</td>\n",
              "      <td>0.000000</td>\n",
              "      <td>107.000000</td>\n",
              "      <td>1.000000</td>\n",
              "      <td>1.783333</td>\n",
              "    </tr>\n",
              "    <tr>\n",
              "      <th>max</th>\n",
              "      <td>2021.000000</td>\n",
              "      <td>8.800000</td>\n",
              "      <td>93.000000</td>\n",
              "      <td>1.000000</td>\n",
              "      <td>1.000000</td>\n",
              "      <td>1.0</td>\n",
              "      <td>1.000000</td>\n",
              "      <td>317.000000</td>\n",
              "      <td>4.000000</td>\n",
              "      <td>5.283333</td>\n",
              "    </tr>\n",
              "  </tbody>\n",
              "</table>\n",
              "</div>"
            ],
            "text/plain": [
              "              Year         IMDb  ...  Streaming_Channel_Count  Runtime_hrs\n",
              "count  2078.000000  2078.000000  ...              2078.000000  2078.000000\n",
              "mean   2004.960058     5.889654  ...                 1.064485     1.651652\n",
              "std      15.686439     1.182057  ...                 0.257164     0.343586\n",
              "min    1919.000000     1.100000  ...                 1.000000     0.366667\n",
              "25%    2000.000000     5.200000  ...                 1.000000     1.483333\n",
              "50%    2010.000000     6.000000  ...                 1.000000     1.600000\n",
              "75%    2016.000000     6.700000  ...                 1.000000     1.783333\n",
              "max    2021.000000     8.800000  ...                 4.000000     5.283333\n",
              "\n",
              "[8 rows x 10 columns]"
            ]
          },
          "metadata": {},
          "execution_count": 27
        }
      ]
    },
    {
      "cell_type": "code",
      "metadata": {
        "id": "Shz1eIuHNm_5"
      },
      "source": [
        ""
      ],
      "execution_count": null,
      "outputs": []
    }
  ]
}